{
  "cells": [
    {
      "cell_type": "markdown",
      "metadata": {
        "id": "view-in-github",
        "colab_type": "text"
      },
      "source": [
        "<a href=\"https://colab.research.google.com/github/thirayume/poprediction/blob/main/Prediction_Day.ipynb\" target=\"_parent\"><img src=\"https://colab.research.google.com/assets/colab-badge.svg\" alt=\"Open In Colab\"/></a>"
      ]
    },
    {
      "cell_type": "markdown",
      "metadata": {
        "id": "s3mas7LvTsym"
      },
      "source": [
        "### **V.2 - Muangtai Purchasing Prediction by Day**"
      ]
    },
    {
      "cell_type": "code",
      "execution_count": null,
      "metadata": {
        "cellView": "form",
        "id": "qCLrRhB_RtCJ"
      },
      "outputs": [],
      "source": [
        "# @title Define secrets\n",
        "\n",
        "from google.colab import userdata\n",
        "host = userdata.get('host')\n",
        "port = userdata.get('port')\n",
        "database = userdata.get('database')\n",
        "user = userdata.get('user')\n",
        "password = userdata.get('password')"
      ]
    },
    {
      "cell_type": "code",
      "execution_count": null,
      "metadata": {
        "cellView": "form",
        "id": "v7fvZYzJMbtb"
      },
      "outputs": [],
      "source": [
        "# @title Install dependencies (if need)\n",
        "\n",
        "!pip install psycopg2 pandas pmdarima"
      ]
    },
    {
      "cell_type": "code",
      "execution_count": null,
      "metadata": {
        "cellView": "form",
        "id": "yVSBixTwTtmR"
      },
      "outputs": [],
      "source": [
        "# @title Import dependencies\n",
        "\n",
        "import psycopg2\n",
        "\n",
        "from datetime import datetime\n",
        "\n",
        "import numpy as np\n",
        "import pandas as pd\n",
        "from pandas import plotting\n",
        "\n",
        "import matplotlib.pyplot as plt\n",
        "%matplotlib inline\n",
        "from matplotlib.pylab import rcParams\n",
        "import seaborn as sns\n",
        "\n",
        "import plotly as py\n",
        "import plotly.graph_objs as go\n",
        "py.offline.init_notebook_mode(connected = True)\n",
        "\n",
        "import fastai\n",
        "\n",
        "import warnings\n",
        "import os\n",
        "from pathlib import Path\n",
        "warnings.filterwarnings(\"ignore\")\n",
        "\n",
        "import torch\n",
        "import torch.nn as nn\n",
        "from torch.autograd import Variable\n",
        "\n",
        "import pmdarima as pm\n",
        "\n",
        "from statsmodels.tsa.statespace.sarimax import SARIMAX\n",
        "from statsmodels.tsa.seasonal import seasonal_decompose\n",
        "from statsmodels.tsa.stattools import adfuller\n",
        "from statsmodels.graphics.tsaplots import plot_acf, plot_pacf\n",
        "\n",
        "from sklearn.cluster import KMeans\n",
        "from sklearn.preprocessing import MinMaxScaler\n",
        "from sklearn.metrics import mean_squared_error\n",
        "\n",
        "from math import sqrt\n",
        "\n",
        "# plt.style.use('fivethirtyeight')\n",
        "plt.style.use(\"seaborn-whitegrid\")\n",
        "plt.rc(\"figure\", autolayout = True)\n",
        "plt.rc(\"axes\", labelweight = \"bold\", labelsize = \"large\", titleweight = \"bold\", titlesize = 12, titlepad = 10)"
      ]
    },
    {
      "cell_type": "code",
      "execution_count": null,
      "metadata": {
        "cellView": "form",
        "id": "JKVYx_oqXKxZ"
      },
      "outputs": [],
      "source": [
        "# @title Connect to the PostgreSQL database\n",
        "\n",
        "conn = psycopg2.connect(\n",
        "    host=host,\n",
        "    port=port,\n",
        "    database=database,\n",
        "    user=user,\n",
        "    password=password,\n",
        ")\n",
        "conn"
      ]
    },
    {
      "cell_type": "code",
      "execution_count": null,
      "metadata": {
        "id": "hSXEpMKPM80g"
      },
      "outputs": [],
      "source": [
        "# @title Define a SQL query to select data from a \"fact_picking_lists\" like in a View\n",
        "\n",
        "sql = \"\"\"\n",
        "      select * from view_fact_picking_lists;\n",
        "      \"\"\""
      ]
    },
    {
      "cell_type": "code",
      "execution_count": null,
      "metadata": {
        "id": "wOhGs_GMTsO8"
      },
      "outputs": [],
      "source": [
        "# @title Create a cursor object to execute queries to dataframe\n",
        "\n",
        "with conn.cursor() as cursor:\n",
        "  # Execute the query\n",
        "  cursor.execute(sql)\n",
        "  columns = [desc[0] for desc in cursor.description]\n",
        "  # Fetch all rows from the query result\n",
        "  rows = cursor.fetchall()\n",
        "\n",
        "  # Create dataframe\n",
        "  df = pd.DataFrame(rows, columns=columns)"
      ]
    },
    {
      "cell_type": "code",
      "execution_count": null,
      "metadata": {
        "cellView": "form",
        "id": "8gLq9FPLUyK5"
      },
      "outputs": [],
      "source": [
        "# @title Close the connection\n",
        "conn.close()"
      ]
    },
    {
      "cell_type": "code",
      "execution_count": null,
      "metadata": {
        "id": "KsY_2VphWH8a"
      },
      "outputs": [],
      "source": [
        "# @title Format Date and Time and Index\n",
        "\n",
        "df['podatetime'] = pd.to_datetime( df['dim_pickinglists__document_date']  + ' ' + df['dim_pickinglists__document_time'], infer_datetime_format=True)\n",
        "df['dim_pickinglists__document_date'] = pd.to_datetime(df['dim_pickinglists__document_date'], infer_datetime_format = True)\n",
        "df['podatetime'] = pd.to_datetime(df['podatetime'], infer_datetime_format = True)"
      ]
    },
    {
      "cell_type": "code",
      "execution_count": null,
      "metadata": {
        "id": "rVhpSeaReucL"
      },
      "outputs": [],
      "source": [
        "df = df.loc[:, ~df.columns.str.contains('^Unnamed')]"
      ]
    },
    {
      "cell_type": "code",
      "execution_count": null,
      "metadata": {
        "id": "_KjaBmhcSQ3j"
      },
      "outputs": [],
      "source": [
        "df.head()"
      ]
    },
    {
      "cell_type": "code",
      "execution_count": null,
      "metadata": {
        "id": "yNo-OlXViv-u"
      },
      "outputs": [],
      "source": [
        "df.tail()"
      ]
    },
    {
      "cell_type": "code",
      "execution_count": null,
      "metadata": {
        "id": "02b_k67hQQqp"
      },
      "outputs": [],
      "source": [
        "df.describe()"
      ]
    },
    {
      "cell_type": "code",
      "execution_count": null,
      "metadata": {
        "id": "INSprVuVcIbK"
      },
      "outputs": [],
      "source": [
        "df.info()"
      ]
    },
    {
      "cell_type": "code",
      "execution_count": null,
      "metadata": {
        "id": "vGXouqfCdGbY"
      },
      "outputs": [],
      "source": [
        "df.isnull().sum()"
      ]
    },
    {
      "cell_type": "code",
      "execution_count": null,
      "metadata": {
        "id": "wbWmxE4sjeky"
      },
      "outputs": [],
      "source": [
        "# Fill NaN with False for this column\n",
        "df['dim_families__is_alcoholic'] = df['dim_families__is_alcoholic'].notna()"
      ]
    },
    {
      "cell_type": "code",
      "execution_count": null,
      "metadata": {
        "id": "0kTA8aoYkCnU"
      },
      "outputs": [],
      "source": [
        "# Clean all null value\n",
        "df1 = df.copy()\n",
        "df1 = df1.drop(['liters'], axis=1)\n",
        "df1.isnull().sum()"
      ]
    },
    {
      "cell_type": "code",
      "execution_count": null,
      "metadata": {
        "id": "8pPGTiB4m_z0"
      },
      "outputs": [],
      "source": [
        "# Drop some data\n",
        "mindate = datetime.datetime(2023, 4, 24)\n",
        "\n",
        "df1 = df1[df1.dim_pickinglists__document_date > mindate]"
      ]
    },
    {
      "cell_type": "code",
      "execution_count": null,
      "metadata": {
        "id": "MBjSQLFegUh2"
      },
      "outputs": [],
      "source": [
        "sku_ids = df1['dim_stock_keeping_units__sku_id'].unique()\n",
        "print(sorted(sku_ids))"
      ]
    },
    {
      "cell_type": "code",
      "execution_count": null,
      "metadata": {
        "id": "j8V_9vdqhgsH"
      },
      "outputs": [],
      "source": [
        "# @title Pivot SKU Sales by Month\n",
        "pd.set_option(\"display.float_format\", \"{:,.0f}\".format)\n",
        "\n",
        "df1['dim_pickinglists__document_date'] = pd.to_datetime(df1['dim_pickinglists__document_date'], infer_datetime_format = True)\n",
        "\n",
        "pivot_df1 = df1.pivot_table(\n",
        "    values='fact_picking_lists__quantity',\n",
        "    index=['dim_stock_keeping_units__sku_id'],\n",
        "    columns=['dim_pickinglists__document_date'],\n",
        "    aggfunc='sum',\n",
        "    margins = True,\n",
        "    fill_value = '0'\n",
        ")\n",
        "pivot_df1 = pivot_df1.sort_values(by=['All'], ascending=False)\n",
        "pivot_df1"
      ]
    },
    {
      "cell_type": "code",
      "execution_count": null,
      "metadata": {
        "id": "5Et1O93234sp"
      },
      "outputs": [],
      "source": [
        "pivot_df1.T"
      ]
    },
    {
      "cell_type": "code",
      "execution_count": null,
      "metadata": {
        "id": "KVsoBK1V956q"
      },
      "outputs": [],
      "source": [
        "sorted_sku = []\n",
        "for sku, qty in pivot_df1.iterrows():\n",
        "  sorted_sku.append(sku)\n",
        "sorted_sku.pop(0)"
      ]
    },
    {
      "cell_type": "code",
      "execution_count": null,
      "metadata": {
        "id": "EbR8EruAu8mH"
      },
      "outputs": [],
      "source": [
        "def plot_by_SKUs(sku_df, pivot_df):\n",
        "  for i in range(len(sku_df)):\n",
        "    plt.figure(figsize=(6,3))\n",
        "\n",
        "    title = 'SKU: ' + sku_df[i]\n",
        "    xlabel = ''\n",
        "    ylabel = ''\n",
        "\n",
        "    my_df = pivot_df.T[sku_df[i]]\n",
        "    my_df.drop(my_df.tail(1).index,inplace=True)\n",
        "    my_df.astype(float).plot()\n",
        "\n",
        "    plt.title(label=title)\n",
        "    plt.autoscale(axis='x', tight=True)\n",
        "    plt.xlabel(xlabel)\n",
        "    plt.ylabel(ylabel)\n",
        "    plt.savefig('SKU/' + sku_df[i] + '.png', bbox_inches='tight')\n",
        "    plt.show()"
      ]
    },
    {
      "cell_type": "code",
      "execution_count": null,
      "metadata": {
        "id": "oyNXx43WuO86"
      },
      "outputs": [],
      "source": [
        "sample_sku_df = sorted_sku\n",
        "plot_by_SKUs(sample_sku_df, pivot_df1)\n",
        "\n",
        "sample_sku_df = sorted_sku[0:1]"
      ]
    },
    {
      "cell_type": "code",
      "execution_count": null,
      "metadata": {
        "id": "XeiemI-VUbBp"
      },
      "outputs": [],
      "source": [
        "def mape(actual, pred):\n",
        "    actual, pred = np.array(actual), np.array(pred)\n",
        "    return np.mean(np.abs((actual - pred) / actual)) * 100"
      ]
    },
    {
      "cell_type": "code",
      "execution_count": null,
      "metadata": {
        "id": "_nrn94y8EcYW"
      },
      "outputs": [],
      "source": [
        "sample_df1 = pivot_df1.T[sample_sku_df].reset_index()\n",
        "sample_df1.drop(sample_df1.tail(1).index, inplace=True)\n",
        "sample_df1.columns = ['month', 'qty']\n",
        "sample_df1['month'] = pd.to_datetime(sample_df1['month'], infer_datetime_format = True)\n",
        "sample_df1 = sample_df1.set_index(['month'])\n",
        "sample_df1"
      ]
    },
    {
      "cell_type": "code",
      "execution_count": null,
      "metadata": {
        "id": "BWwT7t0LEPP2"
      },
      "outputs": [],
      "source": [
        "sample_df1.info()"
      ]
    },
    {
      "cell_type": "code",
      "execution_count": null,
      "metadata": {
        "id": "aLVAWgETqhgx"
      },
      "outputs": [],
      "source": [
        "sample_df1.isnull().sum()"
      ]
    },
    {
      "cell_type": "code",
      "execution_count": null,
      "metadata": {
        "id": "xgFh71FlESA9"
      },
      "outputs": [],
      "source": [
        "plt.figure(figsize = (15, 7))\n",
        "plt.title(\"Number of Purchase by Date\")\n",
        "plt.xlabel('Date')\n",
        "plt.ylabel('QTY')\n",
        "plt.plot(sample_df1)\n",
        "plt.show()"
      ]
    },
    {
      "cell_type": "markdown",
      "metadata": {
        "id": "TJd5KUlyHGmp"
      },
      "source": [
        "### <center> Rolling Statistics\n",
        "\n",
        "A rolling average is a great way to visualize how the dataset is trending. As the dataset provides counts by month, a window size of 12 will give the annual rolling average.\n",
        "\n",
        "this plot include the rolling standard deviation to see how much the data varies from the rolling average."
      ]
    },
    {
      "cell_type": "code",
      "execution_count": null,
      "metadata": {
        "id": "TDHjNUv8GDxE"
      },
      "outputs": [],
      "source": [
        "#Determine rolling statistics\n",
        "sample_df1[\"rolling_avg\"] = sample_df1[\"qty\"].rolling(window = 12).mean() #window size 12 denotes 12 months, giving rolling mean at yearly level\n",
        "sample_df1[\"rolling_std\"] = sample_df1[\"qty\"].rolling(window = 12).std()\n",
        "\n",
        "#Plot rolling statistics\n",
        "plt.figure(figsize = (15, 7))\n",
        "plt.plot(sample_df1[\"qty\"], color = '#379BDB', label = 'Original')\n",
        "plt.plot(sample_df1[\"rolling_avg\"], color = '#D22A0D', label = 'Rolling Mean')\n",
        "plt.plot(sample_df1[\"rolling_std\"], color = '#142039', label = 'Rolling Std')\n",
        "plt.legend(loc = 'best')\n",
        "plt.title('Rolling Mean & Standard Deviation')\n",
        "plt.savefig(sample_sku_df[0] + '_Rolling.png', bbox_inches='tight')\n",
        "plt.show(block = False)"
      ]
    },
    {
      "cell_type": "markdown",
      "metadata": {
        "id": "CFfBg-kWsm9M"
      },
      "source": [
        "### <center>Augmented Dickey–Fuller Test</center>\n",
        "\n",
        "The Augmented Dickey-Fuller Test is used to determine if time-series data is stationary or not. Similar to a t-test, let set a significance level before the test and make conclusions on the hypothesis based on the resulting p-value.\n",
        "\n",
        "<B>Null Hypothesis:</B> The data is not stationary.\n",
        "\n",
        "<B>Alternative Hypothesis:</B> The data is stationary.\n",
        "\n",
        "For the data to be stationary (ie. reject the null hypothesis), the ADF test should have:\n",
        "\n",
        "- p-value <= significance level (0.01, 0.05, 0.10, etc.)\n",
        "\n",
        "If the p-value is greater than the significance level then we can say that it is likely that the data is not stationary."
      ]
    },
    {
      "cell_type": "code",
      "execution_count": null,
      "metadata": {
        "id": "5_c0czFdtANP"
      },
      "outputs": [],
      "source": [
        "# Prepare dataset\n",
        "sample_df1 = pivot_df1.T[sample_sku_df].reset_index()\n",
        "sample_df1.drop(sample_df1.tail(1).index, inplace=True)\n",
        "sample_df1.columns = ['month', 'qty']\n",
        "sample_df1['month'] = pd.to_datetime(sample_df1['month'], infer_datetime_format = True)\n",
        "sample_df1 = sample_df1.set_index(['month'])"
      ]
    },
    {
      "cell_type": "markdown",
      "metadata": {
        "id": "a8rGu42gJg99"
      },
      "source": [
        "### <center>SARIMA Model Selection</center>\n",
        "\n",
        "Now let's try the same strategy as above, except let's use a SARIMA model so that can be account for seasonality."
      ]
    },
    {
      "cell_type": "code",
      "execution_count": null,
      "metadata": {
        "id": "1ZfGxaUmNj0Y"
      },
      "outputs": [],
      "source": [
        "result = seasonal_decompose(sample_df1, model='additive', extrapolate_trend='freq', period=12)\n",
        "fig = plt.figure()\n",
        "fig = result.plot()\n",
        "fig.savefig(sample_sku_df[0] + '_seasonal_decompose.png', bbox_inches='tight')"
      ]
    },
    {
      "cell_type": "code",
      "execution_count": null,
      "metadata": {
        "id": "t4emnECPueMf"
      },
      "outputs": [],
      "source": [
        "#Augmented Dickey–Fuller test:\n",
        "print('Results of Dickey Fuller Test:')\n",
        "dftest = adfuller(sample_df1['qty'], autolag='AIC')\n",
        "\n",
        "dfoutput = pd.Series(dftest[0:4], index=['Test Statistic','p-value','#Lags Used','Number of Observations Used'])\n",
        "for key,value in dftest[4].items():\n",
        "    dfoutput['Critical Value (%s)'%key] = value\n",
        "\n",
        "print(dfoutput)"
      ]
    },
    {
      "cell_type": "code",
      "execution_count": null,
      "metadata": {
        "id": "dEuwf3PhOCeb"
      },
      "outputs": [],
      "source": [
        "result = adfuller(sample_df1.qty.dropna())\n",
        "print(f'ADF Statistics:{result[0]}')\n",
        "print(f'p-value:{result[1]}')"
      ]
    },
    {
      "cell_type": "markdown",
      "metadata": {
        "id": "p7BTbUsoOMgE"
      },
      "source": [
        "The p-value is higher than 0.05. This means that the time serie is non stationary with a confidence of 95%. Then check if with a one step differentiation, the time serie become stationary (in terms of a trendless time series)."
      ]
    },
    {
      "cell_type": "code",
      "execution_count": null,
      "metadata": {
        "id": "R72W72hLOCbv"
      },
      "outputs": [],
      "source": [
        "result2 = adfuller(sample_df1.qty.diff().dropna())\n",
        "print(f'ADF Statistics:{result2[0]}')\n",
        "print(f'p-value:{result2[1]}')"
      ]
    },
    {
      "cell_type": "code",
      "execution_count": null,
      "metadata": {
        "id": "m7MT1sD2OCYv"
      },
      "outputs": [],
      "source": [
        "# @title ACF and PACF\n",
        "fig, (ax1, ax2) = plt.subplots(2, 1, figsize = (8, 8))\n",
        "\n",
        "plot_acf(sample_df1, lags = 12, zero = False, ax = ax1)\n",
        "plot_pacf(sample_df1, lags = 12, zero = False, ax = ax2)\n",
        "plt.savefig(sample_sku_df[0] + '_acf_pacf.png', bbox_inches='tight')\n",
        "plt.show()"
      ]
    },
    {
      "cell_type": "code",
      "execution_count": null,
      "metadata": {
        "id": "lml33QRpOCVV"
      },
      "outputs": [],
      "source": [
        "# Seasonal - fit stepwise auto-ARIMA\n",
        "SARIMA_model = pm.auto_arima(sample_df1, start_p = 1, start_q = 1,\n",
        "                        max_p = 3, max_q = 3,\n",
        "                        m = 12, # 12 is the frequncy of the cycle\n",
        "                        seasonal = True, # set to seasonal\n",
        "                        d = 1,\n",
        "                        D = 1, # order of the seasonal differencing\n",
        "                        trace = True,\n",
        "                        error_action = 'ignore',\n",
        "                        start_P = 1, start_Q = 1,\n",
        "                        max_P = 2, max_Q = 2,\n",
        "                        information_criterion = 'aic',\n",
        "                        stepwise = True)"
      ]
    },
    {
      "cell_type": "markdown",
      "metadata": {
        "id": "4-ccdhqKYhWs"
      },
      "source": [
        "### SARIMA (3,1,0)(2,1,0)[12]   : AIC=5488.455 - intercept   : AIC=5490.458"
      ]
    },
    {
      "cell_type": "code",
      "execution_count": null,
      "metadata": {
        "id": "C_ZcWnWrOCQl"
      },
      "outputs": [],
      "source": [
        "model1 = SARIMAX(sample_df1.astype(float), order = (3, 1, 0), seasonal_order = (2, 1, 0, 12))\n",
        "SARIMA_model1 = model1.fit()"
      ]
    },
    {
      "cell_type": "code",
      "execution_count": null,
      "metadata": {
        "id": "dqDvaVRNOCGn"
      },
      "outputs": [],
      "source": [
        "SARIMA_model1.summary()"
      ]
    },
    {
      "cell_type": "code",
      "execution_count": null,
      "metadata": {
        "id": "AmhDDANvRJIV"
      },
      "outputs": [],
      "source": [
        "# @title Create the 4 diagostics plots\n",
        "SARIMA_model1.plot_diagnostics(figsize = (8, 8))\n",
        "plt.savefig(sample_sku_df[0] + '_model1_diag.png', bbox_inches='tight')\n",
        "plt.show()"
      ]
    },
    {
      "cell_type": "code",
      "execution_count": null,
      "metadata": {
        "id": "S1gbZBxBRJFt"
      },
      "outputs": [],
      "source": [
        "# All the 4 plots indicates a good fit of the SARIMA model on the given time serie.\n",
        "# Create a vector that will host the predictions\n",
        "prediction1 = SARIMA_model1.get_prediction(start = -12)\n",
        "mean_prediction1 = prediction1.predicted_mean\n",
        "mean_prediction1 = mean_prediction1.rename(\"prediction1\")"
      ]
    },
    {
      "cell_type": "code",
      "execution_count": null,
      "metadata": {
        "id": "oSuWzImaRJCt"
      },
      "outputs": [],
      "source": [
        "# Get the confidence intervals from the sarima prediction\n",
        "confi_int_p1 = prediction1.conf_int()\n",
        "lower_limits_p1 = confi_int_p1.iloc[:, 0]\n",
        "upper_limits_p1 = confi_int_p1.iloc[:, 1]"
      ]
    },
    {
      "cell_type": "code",
      "execution_count": null,
      "metadata": {
        "id": "QrB1_vYTRI_i"
      },
      "outputs": [],
      "source": [
        "plt.figure(figsize = (14, 5))\n",
        "plt.title(\"Purchase prediction by SARIMA\", fontsize = 25)\n",
        "\n",
        "plt.plot(sample_df1[-24:].index, sample_df1[-24:].values, label = 'Actual values', color = \"blue\", marker = \"o\")\n",
        "\n",
        "plt.plot(mean_prediction1[-24:].index, mean_prediction1[-24:].values, label = 'Prediction', color = \"green\", marker = \"o\")\n",
        "plt.fill_between(mean_prediction1[-24:].index, lower_limits_p1, upper_limits_p1, alpha = 0.1, color = \"green\")\n",
        "\n",
        "plt.legend(fontsize = 12, fancybox = True, shadow = True, frameon = True)\n",
        "plt.ylabel('QTY', fontsize = 15)\n",
        "plt.savefig(sample_sku_df[0] + '_model1_predict.png', bbox_inches='tight')\n",
        "plt.show()"
      ]
    },
    {
      "cell_type": "code",
      "execution_count": null,
      "metadata": {
        "id": "ZHaCgevNRI7i"
      },
      "outputs": [],
      "source": [
        "mape_sarima1 = mape(sample_df1.iloc[-12:, 0], mean_prediction1)\n",
        "print(f\"MAPE OF LSTM MODEL : {mape_sarima1:.2f} %\")"
      ]
    },
    {
      "cell_type": "code",
      "execution_count": null,
      "metadata": {
        "id": "BGucXGd8R73L"
      },
      "outputs": [],
      "source": [
        "rmse_sarima1 = sqrt(mean_squared_error(sample_df1[-12:].values, mean_prediction1.values))\n",
        "print(f\"RMSE OF LSTM MODEL : {rmse_sarima1:.2f}\")"
      ]
    },
    {
      "cell_type": "markdown",
      "metadata": {
        "id": "BlhorToNYoW6"
      },
      "source": [
        "### SARIMA(2,1,0)(2,1,0)[12] : AIC=5494.111"
      ]
    },
    {
      "cell_type": "code",
      "execution_count": null,
      "metadata": {
        "id": "OYyZGViQYsee"
      },
      "outputs": [],
      "source": [
        "model2 = SARIMAX(sample_df1.astype(float), order = (2, 1, 0), seasonal_order = (2, 1, 0, 12))\n",
        "SARIMA_model2 = model2.fit()"
      ]
    },
    {
      "cell_type": "code",
      "execution_count": null,
      "metadata": {
        "id": "OeW3JuJGYsbX"
      },
      "outputs": [],
      "source": [
        "SARIMA_model2.summary()"
      ]
    },
    {
      "cell_type": "code",
      "execution_count": null,
      "metadata": {
        "id": "3aFYURrhYsYV"
      },
      "outputs": [],
      "source": [
        "# @title Create the 4 diagostics plots\n",
        "SARIMA_model2.plot_diagnostics(figsize = (8, 8))\n",
        "plt.savefig(sample_sku_df[0] + '_model2_diag.png', bbox_inches='tight')\n",
        "plt.show()"
      ]
    },
    {
      "cell_type": "code",
      "execution_count": null,
      "metadata": {
        "id": "nhxkST2rYsVw"
      },
      "outputs": [],
      "source": [
        "# All the 4 plots indicates a good fit of the SARIMA model on the given time serie.\n",
        "# Create a vector that will host the predictions\n",
        "prediction2 = SARIMA_model2.get_prediction(start = -12)\n",
        "mean_prediction2 = prediction2.predicted_mean\n",
        "mean_prediction2 = mean_prediction2.rename(\"prediction2\")"
      ]
    },
    {
      "cell_type": "code",
      "execution_count": null,
      "metadata": {
        "id": "CHZF8DFgYsTP"
      },
      "outputs": [],
      "source": [
        "# Get the confidence intervals from the sarima prediction\n",
        "confi_int_p2 = prediction2.conf_int()\n",
        "lower_limits_p2 = confi_int_p2.iloc[:, 0]\n",
        "upper_limits_p2 = confi_int_p2.iloc[:, 1]"
      ]
    },
    {
      "cell_type": "code",
      "execution_count": null,
      "metadata": {
        "id": "8f9-2CnZYsQl"
      },
      "outputs": [],
      "source": [
        "plt.figure(figsize = (14, 5))\n",
        "plt.title(\"Purchase prediction by SARIMA\", fontsize = 25)\n",
        "\n",
        "plt.plot(sample_df1[-24:].index, sample_df1[-24:].values, label = 'Actual values', color = \"blue\", marker = \"o\")\n",
        "\n",
        "plt.plot(mean_prediction2[-24:].index, mean_prediction2[-24:].values, label = 'Prediction 2', color = \"orange\", marker = \"*\")\n",
        "plt.fill_between(mean_prediction2[-24:].index, lower_limits_p2, upper_limits_p2, alpha = 0.1, color = \"orange\")\n",
        "\n",
        "plt.legend(fontsize = 12, fancybox = True, shadow = True, frameon = True)\n",
        "plt.ylabel('QTY', fontsize = 15)\n",
        "plt.savefig(sample_sku_df[0] + '_model2_predict.png', bbox_inches='tight')\n",
        "plt.show()"
      ]
    },
    {
      "cell_type": "code",
      "execution_count": null,
      "metadata": {
        "id": "SJqavodBYsFc"
      },
      "outputs": [],
      "source": [
        "mape_sarima2 = mape(sample_df1.iloc[-12:, 0], mean_prediction2)\n",
        "print(f\"MAPE OF LSTM MODEL : {mape_sarima2:.2f} %\")"
      ]
    },
    {
      "cell_type": "code",
      "execution_count": null,
      "metadata": {
        "id": "yVNJExEYY8Y6"
      },
      "outputs": [],
      "source": [
        "rmse_sarima2 = sqrt(mean_squared_error(sample_df1[-12:].values, mean_prediction2.values))\n",
        "print(f\"RMSE OF LSTM MODEL : {rmse_sarima2:.2f}\")"
      ]
    },
    {
      "cell_type": "markdown",
      "metadata": {
        "id": "UZYtsDJQ1Wqm"
      },
      "source": [
        "### SARIMA(3,1,0)(1,1,0)[12] : AIC=5512.435"
      ]
    },
    {
      "cell_type": "code",
      "execution_count": null,
      "metadata": {
        "id": "azzIfcXL1miZ"
      },
      "outputs": [],
      "source": [
        "model3 = SARIMAX(sample_df1.astype(float), order = (3, 1, 0), seasonal_order = (1, 1, 0, 12))\n",
        "SARIMA_model3 = model3.fit()"
      ]
    },
    {
      "cell_type": "code",
      "execution_count": null,
      "metadata": {
        "id": "v8UCzfbh1mfk"
      },
      "outputs": [],
      "source": [
        "SARIMA_model3.summary()"
      ]
    },
    {
      "cell_type": "code",
      "execution_count": null,
      "metadata": {
        "id": "dJh8_abx1mca"
      },
      "outputs": [],
      "source": [
        "# @title Create the 4 diagostics plots\n",
        "SARIMA_model3.plot_diagnostics(figsize = (8, 8))\n",
        "plt.savefig(sample_sku_df[0] + '_model3_diag.png', bbox_inches='tight')\n",
        "plt.show()"
      ]
    },
    {
      "cell_type": "code",
      "execution_count": null,
      "metadata": {
        "id": "paXvNeHh1mV9"
      },
      "outputs": [],
      "source": [
        "# All the 4 plots indicates a good fit of the SARIMA model on the given time serie.\n",
        "# Create a vector that will host the predictions\n",
        "prediction3 = SARIMA_model3.get_prediction(start = -12)\n",
        "mean_prediction3 = prediction3.predicted_mean\n",
        "mean_prediction3 = mean_prediction3.rename(\"prediction3\")"
      ]
    },
    {
      "cell_type": "code",
      "execution_count": null,
      "metadata": {
        "id": "bdmjFXB81XGv"
      },
      "outputs": [],
      "source": [
        "# Get the confidence intervals from the sarima prediction\n",
        "confi_int_p3 = prediction3.conf_int()\n",
        "lower_limits_p3 = confi_int_p3.iloc[:, 0]\n",
        "upper_limits_p3 = confi_int_p3.iloc[:, 1]"
      ]
    },
    {
      "cell_type": "code",
      "execution_count": null,
      "metadata": {
        "id": "EV3n0-O61W7f"
      },
      "outputs": [],
      "source": [
        "plt.figure(figsize = (14, 5))\n",
        "plt.title(\"Purchase prediction by SARIMA\", fontsize = 25)\n",
        "\n",
        "plt.plot(sample_df1[-24:].index, sample_df1[-24:].values, label = 'Actual values', color = \"blue\", marker = \"o\")\n",
        "\n",
        "plt.plot(mean_prediction3[-24:].index, mean_prediction3[-24:].values, label = 'Prediction 3', color = \"indigo\", marker = \"x\")\n",
        "plt.fill_between(mean_prediction3[-24:].index, lower_limits_p3, upper_limits_p3, alpha = 0.1, color = \"indigo\")\n",
        "\n",
        "plt.legend(fontsize = 12, fancybox = True, shadow = True, frameon = True)\n",
        "plt.ylabel('QTY', fontsize = 15)\n",
        "plt.savefig(sample_sku_df[0] + '_model3_predict.png', bbox_inches='tight')\n",
        "plt.show()"
      ]
    },
    {
      "cell_type": "code",
      "execution_count": null,
      "metadata": {
        "id": "kI63RRGN11mA"
      },
      "outputs": [],
      "source": [
        "mape_sarima3 = mape(sample_df1.iloc[-12:, 0], mean_prediction3)\n",
        "print(f\"MAPE OF LSTM MODEL : {mape_sarima3:.2f} %\")"
      ]
    },
    {
      "cell_type": "code",
      "execution_count": null,
      "metadata": {
        "id": "KbzH_-D711e6"
      },
      "outputs": [],
      "source": [
        "rmse_sarima3 = sqrt(mean_squared_error(sample_df1[-12:].values, mean_prediction3.values))\n",
        "print(f\"RMSE OF LSTM MODEL : {rmse_sarima3:.2f}\")"
      ]
    },
    {
      "cell_type": "markdown",
      "metadata": {
        "id": "oVE2L33SS4Pf"
      },
      "source": [
        "# Results Sumamry"
      ]
    },
    {
      "cell_type": "code",
      "execution_count": null,
      "metadata": {
        "id": "WKC7D-cwz1Fi"
      },
      "outputs": [],
      "source": [
        "plt.figure(figsize = (14, 5))\n",
        "plt.title(\"Purchase prediction by SARIMA\", fontsize = 25)\n",
        "\n",
        "plt.plot(sample_df1[-24:].index, sample_df1[-24:].values, label = 'Actual values', color = \"blue\", marker = \"o\")\n",
        "\n",
        "plt.plot(mean_prediction1[-24:].index, mean_prediction1[-24:].values, label = 'Prediction 1', color = \"green\", marker = \"o\")\n",
        "plt.fill_between(mean_prediction1[-24:].index, lower_limits_p1, upper_limits_p1, alpha = 0.1, color = \"green\")\n",
        "\n",
        "plt.plot(mean_prediction2[-24:].index, mean_prediction2[-24:].values, label = 'Prediction 2', color = \"orange\", marker = \"*\")\n",
        "plt.fill_between(mean_prediction2[-24:].index, lower_limits_p2, upper_limits_p2, alpha = 0.1, color = \"orange\")\n",
        "\n",
        "plt.plot(mean_prediction3[-24:].index, mean_prediction3[-24:].values, label = 'Prediction 3', color = \"indigo\", marker = \"x\")\n",
        "plt.fill_between(mean_prediction3[-24:].index, lower_limits_p3, upper_limits_p3, alpha = 0.1, color = \"indigo\")\n",
        "\n",
        "plt.legend(fontsize = 12, fancybox = True, shadow = True, frameon = True)\n",
        "plt.ylabel('QTY', fontsize = 15)\n",
        "plt.savefig(sample_sku_df[0] + '_summary.png', bbox_inches='tight')\n",
        "plt.show()"
      ]
    },
    {
      "cell_type": "markdown",
      "metadata": {
        "id": "mmRNDyIX1itg"
      },
      "source": [
        "สรุปได้ว่าควรใช้\n",
        "Best model:\n",
        "\n",
        "1.   SARIMA(3,1,0)(2,1,0) [12]\n",
        "2.   SARIMA(2,1,0)(2,1,0) [12]\n",
        "3.   SARIMA(3,1,0)(1,1,0) [12]\n",
        "\n",
        "Model ที่ 1-2 ดีกว่า และดีกว่า การใช้ datapoint รายเดือน"
      ]
    }
  ],
  "metadata": {
    "colab": {
      "provenance": [],
      "include_colab_link": true
    },
    "kernelspec": {
      "display_name": "Python 3",
      "name": "python3"
    },
    "language_info": {
      "codemirror_mode": {
        "name": "ipython",
        "version": 3
      },
      "file_extension": ".py",
      "mimetype": "text/x-python",
      "name": "python",
      "nbconvert_exporter": "python",
      "pygments_lexer": "ipython3",
      "version": "3.12.0"
    }
  },
  "nbformat": 4,
  "nbformat_minor": 0
}
